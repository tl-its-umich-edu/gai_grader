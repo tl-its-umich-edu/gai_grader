{
 "cells": [
  {
   "attachments": {},
   "cell_type": "markdown",
   "metadata": {},
   "source": [
    "## Generate Text versions of Submission files\n",
    "\n",
    "You will need to run this notebook cell to convert the submissions into a format usable by the GraderGPT_SP and GraderGPT_MP scripts.\n",
    "\n",
    "The `rootSubmissionFolder` should contain the unzipped submission folders that are exported from Canvas.\n",
    "\n",
    "The `textSubmissionsFolder` should ideally just point to `data/Converted Text Submissions` where the files are converted into a format and directory structure as needed for the scripts to run."
   ]
  },
  {
   "cell_type": "code",
   "execution_count": null,
   "metadata": {},
   "outputs": [],
   "source": [
    "import os\n",
    "import pypandoc\n",
    "from pdf2docx  import parse\n",
    "\n",
    "rootSubmissionFolder = os.path.join('data', 'Submissions')\n",
    "textSubmissionsFolder = os.path.join('data', 'Converted Text Submissions')\n",
    "tempFolder = 'temp'\n",
    "\n",
    "for assignmentFolder in os.listdir(rootSubmissionFolder):\n",
    "    if '.DS_Store' in assignmentFolder:\n",
    "        print('Skipping Mac DS_Store folder.')\n",
    "        continue\n",
    "    \n",
    "    assignmentFolderPath = os.path.join(rootSubmissionFolder, assignmentFolder)\n",
    "    assignmentID = assignmentFolder.split('_')[-1]\n",
    "    if not os.path.exists(os.path.join(textSubmissionsFolder, assignmentID)):\n",
    "            os.mkdir(os.path.join(textSubmissionsFolder, assignmentID))\n",
    "\n",
    "    for submissionFile in os.listdir(assignmentFolderPath):\n",
    "        submissionFilePath = os.path.join(rootSubmissionFolder, assignmentFolder, submissionFile)\n",
    "        fileFormat = submissionFile.split('.')[-1].lower()\n",
    "\n",
    "        if 'LATE' in submissionFile:\n",
    "            userID = submissionFile.split('_')[2]\n",
    "        else:\n",
    "            userID = submissionFile.split('_')[1]\n",
    "\n",
    "        savedFileName = userID+'.txt'\n",
    "        savedFilePath = os.path.join(textSubmissionsFolder, assignmentID, savedFileName)\n",
    "        if os.path.exists(savedFilePath):\n",
    "            continue\n",
    "        print(submissionFilePath)\n",
    "        \n",
    "        try:\n",
    "            if fileFormat=='docx':\n",
    "                output = pypandoc.convert_file(submissionFilePath, 'plain')\n",
    "            elif fileFormat=='pdf':\n",
    "                tempFilePath = os.path.join(tempFolder, 'tempFile.docx')\n",
    "                parse(submissionFilePath, tempFilePath)\n",
    "                output = pypandoc.convert_file(tempFilePath, 'plain')\n",
    "        \n",
    "            if len(output.split('\\n')) < 16:\n",
    "                print('File seems to have no text content in it. Skipping file.')\n",
    "            else:\n",
    "                with open(savedFilePath, 'w') as textFile:\n",
    "                    textFile.write(output)\n",
    "        except Exception as e:\n",
    "            print(f'Error in conversion: {e}')\n",
    "            print('Skipping file.')\n",
    "            continue"
   ]
  },
  {
   "cell_type": "markdown",
   "metadata": {},
   "source": [
    "#### Check length of converted submissions to see if any could have been converted incorrectly."
   ]
  },
  {
   "cell_type": "code",
   "execution_count": null,
   "metadata": {},
   "outputs": [],
   "source": [
    "textSubmissionsFolder = os.path.join('data', 'Converted Text Submissions')\n",
    "tempFolder = 'temp'\n",
    "for assignmentID in os.listdir(textSubmissionsFolder):\n",
    "    assignmentFolderPath = os.path.join(textSubmissionsFolder, assignmentID)\n",
    "\n",
    "    for submissionFile in os.listdir(assignmentFolderPath):\n",
    "        submissionFilePath = os.path.join(textSubmissionsFolder, assignmentID, submissionFile)\n",
    "        with open(submissionFilePath) as textFile:\n",
    "            submission = textFile.readlines()\n",
    "\n",
    "        if len(submission) < 16:\n",
    "            print(submissionFilePath)"
   ]
  },
  {
   "attachments": {},
   "cell_type": "markdown",
   "metadata": {},
   "source": [
    "## Token counting and checking"
   ]
  },
  {
   "cell_type": "code",
   "execution_count": null,
   "metadata": {},
   "outputs": [],
   "source": [
    "from helper import *\n",
    "import tiktoken\n",
    "\n",
    "encoding = tiktoken.encoding_for_model(\"gpt-3.5-turbo\")\n",
    "\n",
    "def num_tokens_from_string(string: str, encoding_name='cl100k_base') -> int:\n",
    "    \"\"\"Returns the number of tokens in a text string.\"\"\"\n",
    "    encoding = tiktoken.get_encoding(encoding_name)\n",
    "    num_tokens = len(encoding.encode(string))\n",
    "    return num_tokens\n",
    "\n",
    "config = Config()\n",
    "config.setFromEnv()\n",
    "\n",
    "# Option to use custom variables here.\n",
    "# versionControl = 'V1'\n",
    "# promptVersion = 'P1'\n",
    "# courseShorthand = 'MOVESCI'\n",
    "\n",
    "# customConfigParams = {\n",
    "#                 'Save Name':f'{courseShorthand}-{versionControl}-{promptVersion}', \n",
    "#                 'Overwrite Saves': False, \n",
    "#                 'Use Custom Desc.': True\n",
    "#                 }\n",
    "# config.setSaveDetails(customConfigParams)\n",
    "\n",
    "config.setSaveDetails()\n",
    "\n",
    "gradeRubricAssignmentDF = getGRAData(config)\n",
    "\n",
    "for index, row in gradeRubricAssignmentDF.iterrows():\n",
    "    fullPrompt = processTokenCount(row, config)\n",
    "    if fullPrompt:\n",
    "        tokenCount = num_tokens_from_string(fullPrompt)\n",
    "        if tokenCount > 8192:\n",
    "            display(row)\n"
   ]
  },
  {
   "cell_type": "markdown",
   "metadata": {},
   "source": [
    "## View & Save Full Prompt to File"
   ]
  },
  {
   "cell_type": "code",
   "execution_count": null,
   "metadata": {},
   "outputs": [],
   "source": [
    "from helper import *\n",
    "\n",
    "config = Config()\n",
    "config.setFromEnv()\n",
    "\n",
    "# Option to use custom variables here.\n",
    "versionControl = 'V4'\n",
    "promptVersion = 'P2'\n",
    "courseShorthand = 'MOVESCI'\n",
    "\n",
    "customConfigParams = {\n",
    "                'Save Name':f'{courseShorthand}-{versionControl}-{promptVersion}', \n",
    "                'Overwrite Saves': False, \n",
    "                'Use Custom Desc.': True\n",
    "                }\n",
    "config.setSaveDetails(customConfigParams)\n",
    "\n",
    "config.setSaveDetails()\n",
    "\n",
    "config.saveTemplatePrompt()\n",
    "\n",
    "gradeRubricAssignmentDF = getGRAData(config)\n",
    "\n",
    "for index, row in gradeRubricAssignmentDF.iterrows():\n",
    "    fullPrompt = processTokenCount(row, config)\n",
    "\n",
    "    if fullPrompt:\n",
    "        print(fullPrompt)\n",
    "        with open(os.path.join(config.baseOutputFolder, \\\n",
    "                               config.outputFolders['PROMPT_FILES'], \\\n",
    "                               config.fullName, \\\n",
    "                               f'{config.fullName}_exampleFilledPrompt.txt'), 'w') as textFile:\n",
    "            textFile.write(fullPrompt)\n",
    "        break"
   ]
  },
  {
   "cell_type": "markdown",
   "metadata": {},
   "source": [
    "## Build custom file for manual criterion descriptions"
   ]
  },
  {
   "cell_type": "code",
   "execution_count": null,
   "metadata": {},
   "outputs": [],
   "source": [
    "from helper import *\n",
    "\n",
    "config = Config()\n",
    "config.setFromEnv()\n",
    "\n",
    "gradeRubricAssignmentDF = getGRAData(config)\n",
    "\n",
    "rubricData = gradeRubricAssignmentDF[['assignment_id', 'rubric_id', 'assignment_title', 'data_rubric']]\\\n",
    "                .drop_duplicates(subset=['assignment_id', 'rubric_id']).sort_values('assignment_id').reset_index(drop=True)\n",
    "\n",
    "criterionList = []\n",
    "for index, row in rubricData.iterrows():\n",
    "    rubricDict = {param: row[param] for param in ['assignment_id', 'rubric_id', 'assignment_title']}\n",
    "    for criteria in row['data_rubric']:\n",
    "        criteriaDict = {param: row[param] for param in rubricDict}\n",
    "        for param in ['id', 'points', 'ratings', 'description', 'long_description']:\n",
    "            criteriaDict[param] = criteria[param]\n",
    "        criterionList.append(criteriaDict)\n",
    "\n",
    "customRubricTemplateDF = pd.DataFrame(criterionList)\n",
    "customRubricTemplateDF['custom_description'] = None\n",
    "\n",
    "filePath = os.path.join(config.baseDataFolder, \\\n",
    "                        config.dataFolders['CSV_DATA'], \\\n",
    "                        f'{config.courseName}criterion.csv')\n",
    "\n",
    "if os.path.exists(filePath):\n",
    "    print('File already exists. Not overwriting. Change file path to save elsewhere.')\n",
    "else:\n",
    "    customRubricTemplateDF.to_csv(filePath, index=False)\n",
    "    print(f'Saving criterion CSV to {filePath}')"
   ]
  },
  {
   "cell_type": "markdown",
   "metadata": {},
   "source": [
    "## Copy Prompts to prompts folder\n",
    "This just copies the prompts from the nested output directrioes into a root 'prompt' folder instead for easier access."
   ]
  },
  {
   "cell_type": "code",
   "execution_count": null,
   "metadata": {},
   "outputs": [],
   "source": [
    "import shutil\n",
    "from helper import *\n",
    "\n",
    "config = Config()\n",
    "\n",
    "sourceFolder = os.path.join(config.baseOutputFolder, config.outputFolders['PROMPT_FILES'])\n",
    "destinationFolder = 'prompts' # config.promptFolder\n",
    "\n",
    "if os.path.exists(destinationFolder):\n",
    "    shutil.rmtree(destinationFolder)\n",
    "shutil.copytree(sourceFolder, destinationFolder)"
   ]
  }
 ],
 "metadata": {
  "kernelspec": {
   "display_name": "base",
   "language": "python",
   "name": "python3"
  },
  "language_info": {
   "codemirror_mode": {
    "name": "ipython",
    "version": 3
   },
   "file_extension": ".py",
   "mimetype": "text/x-python",
   "name": "python",
   "nbconvert_exporter": "python",
   "pygments_lexer": "ipython3",
   "version": "3.9.12"
  },
  "orig_nbformat": 4
 },
 "nbformat": 4,
 "nbformat_minor": 2
}
