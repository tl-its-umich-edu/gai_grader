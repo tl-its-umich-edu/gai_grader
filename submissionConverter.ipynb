{
 "cells": [
  {
   "attachments": {},
   "cell_type": "markdown",
   "metadata": {},
   "source": [
    "## Generate Text versions of Submission files"
   ]
  },
  {
   "cell_type": "code",
   "execution_count": 32,
   "metadata": {},
   "outputs": [
    {
     "name": "stdout",
     "output_type": "stream",
     "text": [
      "data\\Submissions\\submissions_First_Draft_-_Writing_Assignment_3_1884808\\muckleroyjackgage_716559_30170642_Econ Essay 3-2.docx\n",
      "Error in conversion: Pandoc died with exitcode \"63\" during conversion: couldn't unpack docx container: Did not find end of central directory signature\n",
      "\n",
      "Skipping file.\n"
     ]
    },
    {
     "name": "stderr",
     "output_type": "stream",
     "text": [
      "[INFO] Start to convert data\\Submissions\\submissions_Revised_Draft_-_Writing_Assignment_2_1884818\\anwunahchukwubuikemalexander_729220_29770850_writing assignment 2.docx - Google Docs.pdf\n",
      "[INFO] \u001b[1;36m[1/4] Opening document...\u001b[0m\n",
      "[INFO] \u001b[1;36m[2/4] Analyzing document...\u001b[0m\n"
     ]
    },
    {
     "name": "stdout",
     "output_type": "stream",
     "text": [
      "data\\Submissions\\submissions_Revised_Draft_-_Writing_Assignment_2_1884818\\anwunahchukwubuikemalexander_729220_29770850_writing assignment 2.docx - Google Docs.pdf\n"
     ]
    },
    {
     "name": "stderr",
     "output_type": "stream",
     "text": [
      "[WARNING] Ignore Line \"writing assignment 2\" due to overlap\n",
      "[INFO] \u001b[1;36m[3/4] Parsing pages...\u001b[0m\n",
      "[INFO] (1/1) Page 1\n",
      "[INFO] \u001b[1;36m[4/4] Creating pages...\u001b[0m\n",
      "[INFO] (1/1) Page 1\n",
      "[INFO] Terminated in 3.68s.\n",
      "[INFO] Start to convert data\\Submissions\\submissions_Revised_Draft_-_Writing_Assignment_2_1884818\\komindy_719136_29706023_Revised WA 2.pdf\n",
      "[INFO] \u001b[1;36m[1/4] Opening document...\u001b[0m\n",
      "[INFO] \u001b[1;36m[2/4] Analyzing document...\u001b[0m\n"
     ]
    },
    {
     "name": "stdout",
     "output_type": "stream",
     "text": [
      "File seems to have no text content in it. Skipping file.\n",
      "data\\Submissions\\submissions_Revised_Draft_-_Writing_Assignment_2_1884818\\komindy_719136_29706023_Revised WA 2.pdf\n"
     ]
    },
    {
     "name": "stderr",
     "output_type": "stream",
     "text": [
      "[WARNING] Words count: 0. It might be a scanned pdf, which is not supported yet.\n",
      "[INFO] \u001b[1;36m[3/4] Parsing pages...\u001b[0m\n",
      "[INFO] (1/2) Page 1\n",
      "[INFO] (2/2) Page 2\n",
      "[INFO] \u001b[1;36m[4/4] Creating pages...\u001b[0m\n",
      "[INFO] (1/2) Page 1\n",
      "[INFO] (2/2) Page 2\n",
      "[INFO] Terminated in 0.47s.\n",
      "[INFO] Start to convert data\\Submissions\\submissions_Revised_Draft_-_Writing_Assignment_2_1884818\\linzeyang_717688_29792724_Econ Writing 2 - Google Docs-1.pdf\n",
      "[INFO] \u001b[1;36m[1/4] Opening document...\u001b[0m\n",
      "[INFO] \u001b[1;36m[2/4] Analyzing document...\u001b[0m\n",
      "[WARNING] Words count: 0. It might be a scanned pdf, which is not supported yet.\n",
      "[INFO] \u001b[1;36m[3/4] Parsing pages...\u001b[0m\n",
      "[INFO] (1/3) Page 1\n",
      "[INFO] (2/3) Page 2\n",
      "[INFO] (3/3) Page 3\n",
      "[INFO] \u001b[1;36m[4/4] Creating pages...\u001b[0m\n",
      "[INFO] (1/3) Page 1\n",
      "[INFO] (2/3) Page 2\n",
      "[INFO] (3/3) Page 3\n"
     ]
    },
    {
     "name": "stdout",
     "output_type": "stream",
     "text": [
      "File seems to have no text content in it. Skipping file.\n",
      "data\\Submissions\\submissions_Revised_Draft_-_Writing_Assignment_2_1884818\\linzeyang_717688_29792724_Econ Writing 2 - Google Docs-1.pdf\n"
     ]
    },
    {
     "name": "stderr",
     "output_type": "stream",
     "text": [
      "[INFO] Terminated in 0.20s.\n",
      "[INFO] Start to convert data\\Submissions\\submissions_Revised_Draft_-_Writing_Assignment_2_1884818\\pandaaryav_646518_29771902_Writing Assignment 2.pdf\n",
      "[INFO] \u001b[1;36m[1/4] Opening document...\u001b[0m\n",
      "[INFO] \u001b[1;36m[2/4] Analyzing document...\u001b[0m\n"
     ]
    },
    {
     "name": "stdout",
     "output_type": "stream",
     "text": [
      "File seems to have no text content in it. Skipping file.\n",
      "data\\Submissions\\submissions_Revised_Draft_-_Writing_Assignment_2_1884818\\pandaaryav_646518_29771902_Writing Assignment 2.pdf\n"
     ]
    },
    {
     "name": "stderr",
     "output_type": "stream",
     "text": [
      "[WARNING] Words count: 0. It might be a scanned pdf, which is not supported yet.\n",
      "[INFO] \u001b[1;36m[3/4] Parsing pages...\u001b[0m\n",
      "[INFO] (1/3) Page 1\n",
      "[INFO] (2/3) Page 2\n",
      "[INFO] (3/3) Page 3\n",
      "[INFO] \u001b[1;36m[4/4] Creating pages...\u001b[0m\n",
      "[INFO] (1/3) Page 1\n",
      "[INFO] (2/3) Page 2\n",
      "[INFO] (3/3) Page 3\n",
      "[INFO] Terminated in 7.97s.\n"
     ]
    },
    {
     "name": "stdout",
     "output_type": "stream",
     "text": [
      "File seems to have no text content in it. Skipping file.\n"
     ]
    }
   ],
   "source": [
    "import os\n",
    "import pypandoc\n",
    "from pdf2docx  import parse\n",
    "\n",
    "rootSubmissionFolder = os.path.join('data', 'Submissions')\n",
    "textSubmissionsFolder = os.path.join('data', 'Converted Text Submissions')\n",
    "tempFolder = 'temp'\n",
    "\n",
    "for assignmentFolder in os.listdir(rootSubmissionFolder):\n",
    "    assignmentFolderPath = os.path.join(rootSubmissionFolder, assignmentFolder)\n",
    "    assignmentID = assignmentFolder.split('_')[-1]\n",
    "    if not os.path.exists(os.path.join(textSubmissionsFolder, assignmentID)):\n",
    "            os.mkdir(os.path.join(textSubmissionsFolder, assignmentID))\n",
    "\n",
    "    for submissionFile in os.listdir(assignmentFolderPath):\n",
    "        submissionFilePath = os.path.join(rootSubmissionFolder, assignmentFolder, submissionFile)\n",
    "        fileFormat = submissionFile.split('.')[-1].lower()\n",
    "\n",
    "        if 'LATE' in submissionFile:\n",
    "            userID = submissionFile.split('_')[2]\n",
    "        else:\n",
    "            userID = submissionFile.split('_')[1]\n",
    "\n",
    "        savedFileName = userID+'.txt'\n",
    "        savedFilePath = os.path.join(textSubmissionsFolder, assignmentID, savedFileName)\n",
    "        if os.path.exists(savedFilePath):\n",
    "            continue\n",
    "        print(submissionFilePath)\n",
    "        \n",
    "        try:\n",
    "            if fileFormat=='docx':\n",
    "                output = pypandoc.convert_file(submissionFilePath, 'plain')\n",
    "            elif fileFormat=='pdf':\n",
    "                tempFilePath = os.path.join(tempFolder, 'tempFile.docx')\n",
    "                parse(submissionFilePath, tempFilePath)\n",
    "                output = pypandoc.convert_file(tempFilePath, 'plain')\n",
    "        \n",
    "            if len(output.split('\\n')) < 16:\n",
    "                print('File seems to have no text content in it. Skipping file.')\n",
    "            else:\n",
    "                with open(savedFilePath, 'w') as textFile:\n",
    "                    textFile.write(output)\n",
    "        except Exception as e:\n",
    "            print(f'Error in conversion: {e}')\n",
    "            print('Skipping file.')\n",
    "            continue\n",
    "        \n"
   ]
  },
  {
   "cell_type": "code",
   "execution_count": 31,
   "metadata": {},
   "outputs": [],
   "source": [
    "textSubmissionsFolder = os.path.join('data', 'Converted Text Submissions')\n",
    "tempFolder = 'temp'\n",
    "for assignmentID in os.listdir(textSubmissionsFolder):\n",
    "    assignmentFolderPath = os.path.join(textSubmissionsFolder, assignmentID)\n",
    "\n",
    "    for submissionFile in os.listdir(assignmentFolderPath):\n",
    "        submissionFilePath = os.path.join(textSubmissionsFolder, assignmentID, submissionFile)\n",
    "        with open(submissionFilePath) as textFile:\n",
    "            submission = textFile.readlines()\n",
    "\n",
    "        if len(submission) < 16:\n",
    "            print(submissionFilePath)"
   ]
  },
  {
   "attachments": {},
   "cell_type": "markdown",
   "metadata": {},
   "source": [
    "## Token counting and checking"
   ]
  },
  {
   "cell_type": "code",
   "execution_count": 3,
   "metadata": {},
   "outputs": [
    {
     "name": "stderr",
     "output_type": "stream",
     "text": [
      "2023-07-03T12:59:31-0400 INFO [helper.py:411] - All configuration parameters set up successfully.\n"
     ]
    }
   ],
   "source": [
    "from helper import *\n",
    "import tiktoken\n",
    "\n",
    "encoding = tiktoken.encoding_for_model(\"gpt-3.5-turbo\")\n",
    "\n",
    "def num_tokens_from_string(string: str, encoding_name='cl100k_base') -> int:\n",
    "    \"\"\"Returns the number of tokens in a text string.\"\"\"\n",
    "    encoding = tiktoken.get_encoding(encoding_name)\n",
    "    num_tokens = len(encoding.encode(string))\n",
    "    return num_tokens\n",
    "\n",
    "config = Config()\n",
    "config.setFromEnv()\n",
    "\n",
    "versionControl = 'V3'\n",
    "promptVersion='P2'\n",
    "courseName = 'ECON'\n",
    "fullName = f'{courseName}-{versionControl}-{promptVersion}'\n",
    "config.setSaveDetails(fullName)\n",
    "\n",
    "config.overWriteSave = False\n",
    "\n",
    "gradeRubricAssignmentDF = getGRAData(config)\n",
    "\n",
    "for index, row in gradeRubricAssignmentDF.iterrows():\n",
    "    fullPrompt = processTokenCount(row, config)\n",
    "    if fullPrompt:\n",
    "        tokenCount = num_tokens_from_string(fullPrompt)\n",
    "        if tokenCount > 8192:\n",
    "            display(row)\n"
   ]
  },
  {
   "cell_type": "code",
   "execution_count": null,
   "metadata": {},
   "outputs": [],
   "source": []
  }
 ],
 "metadata": {
  "kernelspec": {
   "display_name": "base",
   "language": "python",
   "name": "python3"
  },
  "language_info": {
   "codemirror_mode": {
    "name": "ipython",
    "version": 3
   },
   "file_extension": ".py",
   "mimetype": "text/x-python",
   "name": "python",
   "nbconvert_exporter": "python",
   "pygments_lexer": "ipython3",
   "version": "3.10.9"
  },
  "orig_nbformat": 4
 },
 "nbformat": 4,
 "nbformat_minor": 2
}
