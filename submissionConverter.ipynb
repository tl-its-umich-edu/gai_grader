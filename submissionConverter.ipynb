{
 "cells": [
  {
   "attachments": {},
   "cell_type": "markdown",
   "metadata": {},
   "source": [
    "## Generate Text versions of Submission files"
   ]
  },
  {
   "cell_type": "code",
   "execution_count": null,
   "metadata": {},
   "outputs": [],
   "source": [
    "import os\n",
    "import pypandoc\n",
    "from pdf2docx  import parse\n",
    "\n",
    "rootSubmissionFolder = os.path.join('data', 'Submissions')\n",
    "textSubmissionsFolder = os.path.join('data', 'Text Submissions')\n",
    "tempFolder = 'temp'\n",
    "\n",
    "for assignmentFolder in os.listdir(rootSubmissionFolder):\n",
    "    assignmentFolderPath = os.path.join(rootSubmissionFolder, assignmentFolder)\n",
    "    assignmentID = assignmentFolder.split('_')[-1]\n",
    "    if not os.path.exists(os.path.join(textSubmissionsFolder, assignmentID)):\n",
    "            os.mkdir(os.path.join(textSubmissionsFolder, assignmentID))\n",
    "\n",
    "    for submissionFile in os.listdir(assignmentFolderPath):\n",
    "        submissionFilePath = os.path.join(rootSubmissionFolder, assignmentFolder, submissionFile)\n",
    "        fileFormat = submissionFile.split('.')[-1].lower()\n",
    "\n",
    "        if 'LATE' in submissionFile:\n",
    "            userID = submissionFile.split('_')[2]\n",
    "        else:\n",
    "            userID = submissionFile.split('_')[1]\n",
    "\n",
    "        savedFileName = userID+'.txt'\n",
    "        savedFilePath = os.path.join(textSubmissionsFolder, assignmentID, savedFileName)\n",
    "        if os.path.exists(savedFilePath):\n",
    "            continue\n",
    "        print(submissionFilePath)\n",
    "        \n",
    "        if fileFormat=='docx':\n",
    "            output = pypandoc.convert_file(submissionFilePath, 'plain')\n",
    "        elif fileFormat=='pdf':\n",
    "            tempFilePath = os.path.join(tempFolder, 'tempFile.docx')\n",
    "            parse(submissionFilePath, tempFilePath)\n",
    "            output = pypandoc.convert_file(tempFilePath, 'plain')\n",
    "\n",
    "        with open(savedFilePath, 'w') as textFile:\n",
    "            textFile.write(output)\n",
    "        \n"
   ]
  },
  {
   "cell_type": "code",
   "execution_count": null,
   "metadata": {},
   "outputs": [],
   "source": [
    "textSubmissionsFolder = os.path.join('data', 'Text Submissions')\n",
    "tempFolder = 'temp'\n",
    "for assignmentID in os.listdir(textSubmissionsFolder):\n",
    "    assignmentFolderPath = os.path.join(textSubmissionsFolder, assignmentID)\n",
    "\n",
    "    for submissionFile in os.listdir(assignmentFolderPath):\n",
    "        submissionFilePath = os.path.join(textSubmissionsFolder, assignmentID, submissionFile)\n",
    "        with open(submissionFilePath) as textFile:\n",
    "            submission = textFile.readlines()\n",
    "\n",
    "        if len(submission) < 10:\n",
    "            print(submissionFilePath)"
   ]
  },
  {
   "attachments": {},
   "cell_type": "markdown",
   "metadata": {},
   "source": [
    "## Token counting and checking"
   ]
  },
  {
   "cell_type": "code",
   "execution_count": 3,
   "metadata": {},
   "outputs": [
    {
     "name": "stderr",
     "output_type": "stream",
     "text": [
      "2023-07-03T12:59:31-0400 INFO [helper.py:411] - All configuration parameters set up successfully.\n"
     ]
    }
   ],
   "source": [
    "from helper import *\n",
    "import tiktoken\n",
    "\n",
    "encoding = tiktoken.encoding_for_model(\"gpt-3.5-turbo\")\n",
    "\n",
    "def num_tokens_from_string(string: str, encoding_name='cl100k_base') -> int:\n",
    "    \"\"\"Returns the number of tokens in a text string.\"\"\"\n",
    "    encoding = tiktoken.get_encoding(encoding_name)\n",
    "    num_tokens = len(encoding.encode(string))\n",
    "    return num_tokens\n",
    "\n",
    "config = Config()\n",
    "config.setFromEnv()\n",
    "\n",
    "versionControl = 'V3'\n",
    "promptVersion='P2'\n",
    "fullName = f'{versionControl}-{promptVersion}'\n",
    "config.setSaveDetails(fullName)\n",
    "\n",
    "config.overWriteSave = False\n",
    "\n",
    "gradeRubricAssignmentDF = getGRAData(config)\n",
    "\n",
    "for index, row in gradeRubricAssignmentDF.iterrows():\n",
    "    fullPrompt = processTokenCount(row, config)\n",
    "    if fullPrompt:\n",
    "        tokenCount = num_tokens_from_string(fullPrompt)\n",
    "        if tokenCount > 8192:\n",
    "            display(row)\n"
   ]
  },
  {
   "cell_type": "code",
   "execution_count": null,
   "metadata": {},
   "outputs": [],
   "source": []
  }
 ],
 "metadata": {
  "kernelspec": {
   "display_name": "base",
   "language": "python",
   "name": "python3"
  },
  "language_info": {
   "codemirror_mode": {
    "name": "ipython",
    "version": 3
   },
   "file_extension": ".py",
   "mimetype": "text/x-python",
   "name": "python",
   "nbconvert_exporter": "python",
   "pygments_lexer": "ipython3",
   "version": "3.10.9"
  },
  "orig_nbformat": 4
 },
 "nbformat": 4,
 "nbformat_minor": 2
}
