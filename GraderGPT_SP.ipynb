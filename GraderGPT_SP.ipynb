{
 "cells": [
  {
   "attachments": {},
   "cell_type": "markdown",
   "metadata": {},
   "source": [
    "##  Single Process call for GraderGPT grading\n",
    "\n",
    "Makes only one call at a time, and hence will take quite some time. \n",
    "Please check the `GraderGPT_MP.py` script if you need multiprocessed faster execution."
   ]
  },
  {
   "cell_type": "code",
   "execution_count": null,
   "metadata": {},
   "outputs": [],
   "source": [
    "from helper import *\n",
    "from tqdm import tqdm\n",
    "\n",
    "config = Config()\n",
    "config.setFromEnv()\n",
    "\n",
    "versionControl = 'V1'\n",
    "promptVersion = 'P1'\n",
    "courseShorthand = 'MOVESCI'\n",
    "\n",
    "customConfigParams = {\n",
    "                'Save Name':f'{courseShorthand}-{versionControl}-{promptVersion}', \n",
    "                'Overwrite Saves': False, \n",
    "                'Use Custom Desc.': True\n",
    "                }\n",
    "\n",
    "config.setSaveDetails(customConfigParams)\n",
    "config.saveTemplatePrompt()\n",
    "\n",
    "gradeRubricAssignmentDF = getGRAData(config)\n",
    "\n",
    "for index, row in tqdm(gradeRubricAssignmentDF.iterrows(), total=gradeRubricAssignmentDF.shape[0]):\n",
    "    checkRunSave(row, config)"
   ]
  },
  {
   "cell_type": "markdown",
   "metadata": {},
   "source": [
    "Example code block if all variables were already configured in the .env file:"
   ]
  },
  {
   "cell_type": "code",
   "execution_count": null,
   "metadata": {},
   "outputs": [],
   "source": [
    "from helper import *\n",
    "from tqdm import tqdm\n",
    "\n",
    "config = Config()\n",
    "config.setFromEnv()\n",
    "\n",
    "config.setSaveDetails()\n",
    "config.saveTemplatePrompt()\n",
    "\n",
    "gradeRubricAssignmentDF = getGRAData(config)\n",
    "\n",
    "for index, row in tqdm(gradeRubricAssignmentDF.iterrows(), total=gradeRubricAssignmentDF.shape[0]):\n",
    "    checkRunSave(row, config)"
   ]
  },
  {
   "cell_type": "code",
   "execution_count": null,
   "metadata": {},
   "outputs": [],
   "source": []
  }
 ],
 "metadata": {
  "kernelspec": {
   "display_name": "base",
   "language": "python",
   "name": "python3"
  },
  "language_info": {
   "codemirror_mode": {
    "name": "ipython",
    "version": 3
   },
   "file_extension": ".py",
   "mimetype": "text/x-python",
   "name": "python",
   "nbconvert_exporter": "python",
   "pygments_lexer": "ipython3",
   "version": "3.10.9"
  },
  "orig_nbformat": 4
 },
 "nbformat": 4,
 "nbformat_minor": 2
}
