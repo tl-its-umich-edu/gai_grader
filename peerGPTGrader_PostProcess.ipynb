{
 "cells": [
  {
   "cell_type": "code",
   "execution_count": null,
   "metadata": {},
   "outputs": [],
   "source": [
    "from helper import *\n",
    "\n",
    "config = Config()\n",
    "config.setFromEnv()\n",
    "\n",
    "versionControl = 'V1'\n",
    "promptVersion='P3'\n",
    "fullName = f'{versionControl}-{promptVersion}'\n",
    "config.setSaveDetails(fullName)\n",
    "\n",
    "config.simpleCourseName = 'Movement Science'"
   ]
  },
  {
   "cell_type": "code",
   "execution_count": null,
   "metadata": {},
   "outputs": [],
   "source": [
    "resultsDF = convertPicklesToDF('pickle', config)\n",
    "errorDF = convertPicklesToDF('error', config)"
   ]
  },
  {
   "cell_type": "code",
   "execution_count": null,
   "metadata": {},
   "outputs": [],
   "source": [
    "import seaborn as sns\n",
    "import matplotlib.pyplot as plt\n",
    "\n",
    "filterDF = resultsDF[resultsDF['points_possible']==20]\n",
    "sns.jointplot(data=filterDF, x='score', y='peerGPT_score_real', kind=\"reg\", marginal_kws=dict(bins=20))\n",
    "plt.plot([0,20],[0,20], lw=2, color='#414242', linestyle='dashed')\n",
    "plt.show()\n"
   ]
  },
  {
   "cell_type": "code",
   "execution_count": null,
   "metadata": {},
   "outputs": [],
   "source": [
    "mergedCriterionData = pd.DataFrame()\n",
    "\n",
    "for index,row in resultsDF.iterrows():\n",
    "    criterionData = row['data_peerGPT']\n",
    "    for col in ['submitter_id', 'assignment_id']:\n",
    "        criterionData[col] = row[col]\n",
    "    mergedCriterionData = pd.concat([mergedCriterionData, criterionData])\n",
    "\n",
    "mergedCriterionData.to_excel('CriterionData.xlsx')\n",
    "\n",
    "saveDF = resultsDF.copy()\n",
    "del saveDF['data_peerGPT']\n",
    "saveDF.to_excel('ScoreData.xlsx')"
   ]
  },
  {
   "cell_type": "code",
   "execution_count": null,
   "metadata": {},
   "outputs": [],
   "source": [
    "mergedCriterionData"
   ]
  },
  {
   "cell_type": "code",
   "execution_count": null,
   "metadata": {},
   "outputs": [],
   "source": []
  }
 ],
 "metadata": {
  "kernelspec": {
   "display_name": "base",
   "language": "python",
   "name": "python3"
  },
  "language_info": {
   "codemirror_mode": {
    "name": "ipython",
    "version": 3
   },
   "file_extension": ".py",
   "mimetype": "text/x-python",
   "name": "python",
   "nbconvert_exporter": "python",
   "pygments_lexer": "ipython3",
   "version": "3.10.9"
  },
  "orig_nbformat": 4
 },
 "nbformat": 4,
 "nbformat_minor": 2
}
